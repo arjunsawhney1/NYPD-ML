{
 "cells": [
  {
   "cell_type": "markdown",
   "metadata": {},
   "source": [
    "## Dependencies"
   ]
  },
  {
   "cell_type": "code",
   "execution_count": 1,
   "metadata": {},
   "outputs": [],
   "source": [
    "import matplotlib.pyplot as plt\n",
    "import numpy as np\n",
    "import os\n",
    "import pandas as pd\n",
    "import seaborn as sns\n",
    "%matplotlib inline\n",
    "%config InlineBackend.figure_format = 'retina'  # Higher resolution figures"
   ]
  },
  {
   "cell_type": "code",
   "execution_count": 2,
   "metadata": {},
   "outputs": [],
   "source": [
    "from sklearn.preprocessing import RobustScaler\n",
    "from sklearn.preprocessing import OneHotEncoder\n",
    "from sklearn.impute import SimpleImputer\n",
    "from sklearn.pipeline import Pipeline\n",
    "from sklearn.compose import ColumnTransformer\n",
    "from sklearn.tree import DecisionTreeClassifier\n",
    "from sklearn.model_selection import train_test_split\n",
    "from sklearn.model_selection import GridSearchCV\n",
    "from sklearn import metrics"
   ]
  },
  {
   "cell_type": "markdown",
   "metadata": {},
   "source": [
    "# NYPD Civilian Complaints\n",
    "This project contains data on 12,000 civilian complaints filed against New York City police officers. \n",
    "\n",
    "### Getting the Data\n",
    "The data and its corresponding data dictionary is downloadable [here](https://www.propublica.org/datastore/dataset/civilian-complaints-against-new-york-city-police-officers)."
   ]
  },
  {
   "cell_type": "markdown",
   "metadata": {},
   "source": [
    "#### Import data"
   ]
  },
  {
   "cell_type": "code",
   "execution_count": 3,
   "metadata": {
    "scrolled": false
   },
   "outputs": [
    {
     "data": {
      "text/html": [
       "<div>\n",
       "<style scoped>\n",
       "    .dataframe tbody tr th:only-of-type {\n",
       "        vertical-align: middle;\n",
       "    }\n",
       "\n",
       "    .dataframe tbody tr th {\n",
       "        vertical-align: top;\n",
       "    }\n",
       "\n",
       "    .dataframe thead th {\n",
       "        text-align: right;\n",
       "    }\n",
       "</style>\n",
       "<table border=\"1\" class=\"dataframe\">\n",
       "  <thead>\n",
       "    <tr style=\"text-align: right;\">\n",
       "      <th></th>\n",
       "      <th>unique_mos_id</th>\n",
       "      <th>first_name</th>\n",
       "      <th>last_name</th>\n",
       "      <th>command_now</th>\n",
       "      <th>shield_no</th>\n",
       "      <th>complaint_id</th>\n",
       "      <th>month_received</th>\n",
       "      <th>year_received</th>\n",
       "      <th>month_closed</th>\n",
       "      <th>year_closed</th>\n",
       "      <th>...</th>\n",
       "      <th>mos_age_incident</th>\n",
       "      <th>complainant_ethnicity</th>\n",
       "      <th>complainant_gender</th>\n",
       "      <th>complainant_age_incident</th>\n",
       "      <th>fado_type</th>\n",
       "      <th>allegation</th>\n",
       "      <th>precinct</th>\n",
       "      <th>contact_reason</th>\n",
       "      <th>outcome_description</th>\n",
       "      <th>board_disposition</th>\n",
       "    </tr>\n",
       "  </thead>\n",
       "  <tbody>\n",
       "    <tr>\n",
       "      <th>0</th>\n",
       "      <td>10004</td>\n",
       "      <td>Jonathan</td>\n",
       "      <td>Ruiz</td>\n",
       "      <td>078 PCT</td>\n",
       "      <td>8409</td>\n",
       "      <td>42835</td>\n",
       "      <td>7</td>\n",
       "      <td>2019</td>\n",
       "      <td>5</td>\n",
       "      <td>2020</td>\n",
       "      <td>...</td>\n",
       "      <td>32</td>\n",
       "      <td>Black</td>\n",
       "      <td>Female</td>\n",
       "      <td>38.0</td>\n",
       "      <td>Abuse of Authority</td>\n",
       "      <td>Failure to provide RTKA card</td>\n",
       "      <td>78.0</td>\n",
       "      <td>Report-domestic dispute</td>\n",
       "      <td>No arrest made or summons issued</td>\n",
       "      <td>Substantiated (Command Lvl Instructions)</td>\n",
       "    </tr>\n",
       "    <tr>\n",
       "      <th>1</th>\n",
       "      <td>10007</td>\n",
       "      <td>John</td>\n",
       "      <td>Sears</td>\n",
       "      <td>078 PCT</td>\n",
       "      <td>5952</td>\n",
       "      <td>24601</td>\n",
       "      <td>11</td>\n",
       "      <td>2011</td>\n",
       "      <td>8</td>\n",
       "      <td>2012</td>\n",
       "      <td>...</td>\n",
       "      <td>24</td>\n",
       "      <td>Black</td>\n",
       "      <td>Male</td>\n",
       "      <td>26.0</td>\n",
       "      <td>Discourtesy</td>\n",
       "      <td>Action</td>\n",
       "      <td>67.0</td>\n",
       "      <td>Moving violation</td>\n",
       "      <td>Moving violation summons issued</td>\n",
       "      <td>Substantiated (Charges)</td>\n",
       "    </tr>\n",
       "    <tr>\n",
       "      <th>2</th>\n",
       "      <td>10007</td>\n",
       "      <td>John</td>\n",
       "      <td>Sears</td>\n",
       "      <td>078 PCT</td>\n",
       "      <td>5952</td>\n",
       "      <td>24601</td>\n",
       "      <td>11</td>\n",
       "      <td>2011</td>\n",
       "      <td>8</td>\n",
       "      <td>2012</td>\n",
       "      <td>...</td>\n",
       "      <td>24</td>\n",
       "      <td>Black</td>\n",
       "      <td>Male</td>\n",
       "      <td>26.0</td>\n",
       "      <td>Offensive Language</td>\n",
       "      <td>Race</td>\n",
       "      <td>67.0</td>\n",
       "      <td>Moving violation</td>\n",
       "      <td>Moving violation summons issued</td>\n",
       "      <td>Substantiated (Charges)</td>\n",
       "    </tr>\n",
       "    <tr>\n",
       "      <th>3</th>\n",
       "      <td>10007</td>\n",
       "      <td>John</td>\n",
       "      <td>Sears</td>\n",
       "      <td>078 PCT</td>\n",
       "      <td>5952</td>\n",
       "      <td>26146</td>\n",
       "      <td>7</td>\n",
       "      <td>2012</td>\n",
       "      <td>9</td>\n",
       "      <td>2013</td>\n",
       "      <td>...</td>\n",
       "      <td>25</td>\n",
       "      <td>Black</td>\n",
       "      <td>Male</td>\n",
       "      <td>45.0</td>\n",
       "      <td>Abuse of Authority</td>\n",
       "      <td>Question</td>\n",
       "      <td>67.0</td>\n",
       "      <td>PD suspected C/V of violation/crime - street</td>\n",
       "      <td>No arrest made or summons issued</td>\n",
       "      <td>Substantiated (Charges)</td>\n",
       "    </tr>\n",
       "    <tr>\n",
       "      <th>4</th>\n",
       "      <td>10009</td>\n",
       "      <td>Noemi</td>\n",
       "      <td>Sierra</td>\n",
       "      <td>078 PCT</td>\n",
       "      <td>24058</td>\n",
       "      <td>40253</td>\n",
       "      <td>8</td>\n",
       "      <td>2018</td>\n",
       "      <td>2</td>\n",
       "      <td>2019</td>\n",
       "      <td>...</td>\n",
       "      <td>39</td>\n",
       "      <td>NaN</td>\n",
       "      <td>NaN</td>\n",
       "      <td>16.0</td>\n",
       "      <td>Force</td>\n",
       "      <td>Physical force</td>\n",
       "      <td>67.0</td>\n",
       "      <td>Report-dispute</td>\n",
       "      <td>Arrest - other violation/crime</td>\n",
       "      <td>Substantiated (Command Discipline A)</td>\n",
       "    </tr>\n",
       "  </tbody>\n",
       "</table>\n",
       "<p>5 rows × 27 columns</p>\n",
       "</div>"
      ],
      "text/plain": [
       "   unique_mos_id first_name last_name command_now  shield_no  complaint_id  \\\n",
       "0          10004   Jonathan      Ruiz     078 PCT       8409         42835   \n",
       "1          10007       John     Sears     078 PCT       5952         24601   \n",
       "2          10007       John     Sears     078 PCT       5952         24601   \n",
       "3          10007       John     Sears     078 PCT       5952         26146   \n",
       "4          10009      Noemi    Sierra     078 PCT      24058         40253   \n",
       "\n",
       "   month_received  year_received  month_closed  year_closed  ...  \\\n",
       "0               7           2019             5         2020  ...   \n",
       "1              11           2011             8         2012  ...   \n",
       "2              11           2011             8         2012  ...   \n",
       "3               7           2012             9         2013  ...   \n",
       "4               8           2018             2         2019  ...   \n",
       "\n",
       "  mos_age_incident complainant_ethnicity complainant_gender  \\\n",
       "0               32                 Black             Female   \n",
       "1               24                 Black               Male   \n",
       "2               24                 Black               Male   \n",
       "3               25                 Black               Male   \n",
       "4               39                   NaN                NaN   \n",
       "\n",
       "  complainant_age_incident           fado_type                    allegation  \\\n",
       "0                     38.0  Abuse of Authority  Failure to provide RTKA card   \n",
       "1                     26.0         Discourtesy                        Action   \n",
       "2                     26.0  Offensive Language                          Race   \n",
       "3                     45.0  Abuse of Authority                      Question   \n",
       "4                     16.0               Force                Physical force   \n",
       "\n",
       "  precinct                                contact_reason  \\\n",
       "0     78.0                       Report-domestic dispute   \n",
       "1     67.0                              Moving violation   \n",
       "2     67.0                              Moving violation   \n",
       "3     67.0  PD suspected C/V of violation/crime - street   \n",
       "4     67.0                                Report-dispute   \n",
       "\n",
       "                outcome_description                         board_disposition  \n",
       "0  No arrest made or summons issued  Substantiated (Command Lvl Instructions)  \n",
       "1   Moving violation summons issued                   Substantiated (Charges)  \n",
       "2   Moving violation summons issued                   Substantiated (Charges)  \n",
       "3  No arrest made or summons issued                   Substantiated (Charges)  \n",
       "4    Arrest - other violation/crime      Substantiated (Command Discipline A)  \n",
       "\n",
       "[5 rows x 27 columns]"
      ]
     },
     "execution_count": 3,
     "metadata": {},
     "output_type": "execute_result"
    }
   ],
   "source": [
    "allegations = pd.read_csv('allegations.csv')\n",
    "df = allegations.copy()\n",
    "df.head()"
   ]
  },
  {
   "cell_type": "markdown",
   "metadata": {},
   "source": [
    "### Introduction\n",
    "\n",
    "The prediction problem I am attempting is a classification problem. I aim to build a model to predict whether the `mos_ethnicity` of an NYPD officer is **White** or **Not White**. \n",
    "\n",
    "I intend to make this prediction based on data relevant to the allegation case before an outcome is decided. I will then calculate several metrics from the model:\n",
    "\n",
    "* `Accuracy`: The proportion of predictions that were correctly identified\n",
    "* `Precision`: The proportion of **White** identifications that were correctly identified\n",
    "* `Recall`: The proportion of **Not White** identifications that were correctly identified\n",
    "* `F1 score`: The harmonic mean of precision and recall\n",
    "\n",
    "Although all metrics above are important for evaluating a well-functioning model, I will select `F1 score` for evaluating my model. A higher `F1 score` translates to a model which correctly identifies White **and** Not White police officers since it is the harmonic mean of `Precision` and `Recall`. This provides a more granular and balanced understanding of the predictions than `Accuracy`, or any one of `Precision` or `Recall`."
   ]
  },
  {
   "cell_type": "markdown",
   "metadata": {},
   "source": [
    "### Data Pre-Processing"
   ]
  },
  {
   "cell_type": "markdown",
   "metadata": {},
   "source": [
    "Select training and target columns. Inspect data for missingness, and unique values."
   ]
  },
  {
   "cell_type": "code",
   "execution_count": 4,
   "metadata": {
    "scrolled": true
   },
   "outputs": [
    {
     "name": "stdout",
     "output_type": "stream",
     "text": [
      "<class 'pandas.core.frame.DataFrame'>\n",
      "RangeIndex: 33358 entries, 0 to 33357\n",
      "Data columns (total 12 columns):\n",
      " #   Column                    Non-Null Count  Dtype  \n",
      "---  ------                    --------------  -----  \n",
      " 0   mos_ethnicity             33358 non-null  object \n",
      " 1   mos_gender                33358 non-null  object \n",
      " 2   mos_age_incident          33358 non-null  int64  \n",
      " 3   complainant_ethnicity     28894 non-null  object \n",
      " 4   complainant_gender        29163 non-null  object \n",
      " 5   complainant_age_incident  28546 non-null  float64\n",
      " 6   rank_incident             33358 non-null  object \n",
      " 7   precinct                  33334 non-null  float64\n",
      " 8   fado_type                 33358 non-null  object \n",
      " 9   allegation                33357 non-null  object \n",
      " 10  contact_reason            33159 non-null  object \n",
      " 11  outcome_description       33302 non-null  object \n",
      "dtypes: float64(2), int64(1), object(9)\n",
      "memory usage: 3.1+ MB\n"
     ]
    }
   ],
   "source": [
    "#Select training and target columns\n",
    "columns = ['mos_ethnicity', 'mos_gender', 'mos_age_incident',\n",
    "           'complainant_ethnicity', 'complainant_gender', 'complainant_age_incident', \n",
    "           'rank_incident', 'precinct', 'fado_type', 'allegation',  \n",
    "           'contact_reason', 'outcome_description']\n",
    "\n",
    "df = df[columns]\n",
    "#Check for missingness\n",
    "df.info()"
   ]
  },
  {
   "cell_type": "markdown",
   "metadata": {},
   "source": [
    "We cannot impute meaningful data in any of these columns without introducing bias"
   ]
  },
  {
   "cell_type": "code",
   "execution_count": 5,
   "metadata": {
    "scrolled": true
   },
   "outputs": [
    {
     "data": {
      "text/plain": [
       "array(['Hispanic', 'White', 'Black', 'Asian', 'American Indian'],\n",
       "      dtype=object)"
      ]
     },
     "execution_count": 5,
     "metadata": {},
     "output_type": "execute_result"
    }
   ],
   "source": [
    "df['mos_ethnicity'].unique()"
   ]
  },
  {
   "cell_type": "markdown",
   "metadata": {},
   "source": [
    "Binarize `mos_ethnicity` for prediction purposes"
   ]
  },
  {
   "cell_type": "code",
   "execution_count": 6,
   "metadata": {},
   "outputs": [],
   "source": [
    "def binarize_ethnicity(ethnicity):\n",
    "    if ethnicity == 'White':\n",
    "        return 1\n",
    "    else:\n",
    "        return 0"
   ]
  },
  {
   "cell_type": "code",
   "execution_count": 7,
   "metadata": {},
   "outputs": [],
   "source": [
    "df['mos_ethnicity'] = df['mos_ethnicity'].apply(binarize_ethnicity)\n",
    "df = df.dropna(subset=['mos_ethnicity'])"
   ]
  },
  {
   "cell_type": "markdown",
   "metadata": {},
   "source": [
    "Inspect Proportion of White (1) vs Other (1) Ethnicity"
   ]
  },
  {
   "cell_type": "code",
   "execution_count": 8,
   "metadata": {
    "scrolled": true
   },
   "outputs": [
    {
     "data": {
      "text/plain": [
       "Text(0.5, 1.0, 'NYPD Proportion of White (1) vs Other (1) Ethnicity')"
      ]
     },
     "execution_count": 8,
     "metadata": {},
     "output_type": "execute_result"
    },
    {
     "data": {
      "image/png": "[encoded data removed]",
      "text/plain": [
       "<Figure size 432x288 with 1 Axes>"
      ]
     },
     "metadata": {
      "image/png": {
       "height": 277,
       "width": 376
      },
      "needs_background": "light"
     },
     "output_type": "display_data"
    }
   ],
   "source": [
    "sns.countplot(y='mos_ethnicity', data=df).set_title('NYPD Proportion of White (1) vs Other (1) Ethnicity')"
   ]
  },
  {
   "cell_type": "markdown",
   "metadata": {},
   "source": [
    "Roughly 54% of NYPD officers are white."
   ]
  },
  {
   "cell_type": "code",
   "execution_count": 9,
   "metadata": {},
   "outputs": [
    {
     "data": {
      "text/plain": [
       "1    0.541819\n",
       "0    0.458181\n",
       "Name: mos_ethnicity, dtype: float64"
      ]
     },
     "execution_count": 9,
     "metadata": {},
     "output_type": "execute_result"
    }
   ],
   "source": [
    "# Proportion of Males vs. Females\n",
    "df['mos_ethnicity'].value_counts(normalize=True)"
   ]
  },
  {
   "cell_type": "markdown",
   "metadata": {},
   "source": [
    "### Baseline Model\n",
    "I will only use data relevant to the allegation case before an outcome is decided in the allegations table. This is in order to justify the information known only at the \"time of prediction\" and training the model using only those features.\n",
    "\n",
    "- quantitative data: `complainaint_age_incident`, `mos_age_incident`, `precinct`\n",
    "- categorical data (all nominal): `mos_gender`, `complainant_gender'`, `complainant_ethnicity`, `fado_type`, `allegation`, `rank_incident`, `contact_reason`, `outcome_description`\n",
    "\n",
    "All data listed is available at the time of prediction as we aim to predict the ethnicity of the officer before the case is closed. In total, I have 11 features. None are ordinal due to their nature and because we are using a `DecisionTreeClassifier` model.\n",
    "\n",
    "I imputed missing data from the selected columns with `-1` if quantitative or `NULL` if categorical. I did, however, binarize the output column of `mos_ethnicity`, defining 1 corresponding to White and 0 corresponding to Not White ethniciites to simplify predictions. The categorical columns were then one-hot encoded and fed into the `DecisionTreeClassifier` model with default parameters. \n",
    "\n",
    "The average base model performance on unseen data is as follows:\n",
    "- `Accuracy`: 0.7864508393285371\n",
    "- `Precision`: 0.8027657673252436\n",
    "- `Recall`: 0.8012972064300221\n",
    "- `F1 score`: 0.8020130982611654\n",
    "\n",
    "This is not a bad baseline model, looking at the F1 score. It performs substantially better than a random choice model which guesses ethnicity using ethnicity proportions in the dataset as probabilities. There is, however, still a lot of scope for improvement. This baseline model can not be used reliably for predictions."
   ]
  },
  {
   "cell_type": "markdown",
   "metadata": {},
   "source": [
    "#### Create baseline DecisionTreeClassifier model:\n",
    "- Impute -1 for quantitative columns\n",
    "- Impute 'NULL' for categorical columns\n",
    "- One hot encode categorical columns"
   ]
  },
  {
   "cell_type": "code",
   "execution_count": 10,
   "metadata": {},
   "outputs": [],
   "source": [
    "# Select quantitative columns\n",
    "num_feat = ['complainant_age_incident', \n",
    "            'mos_age_incident',\n",
    "            'precinct']\n",
    "num_transformer = Pipeline(steps=[\n",
    "    # Impute -1\n",
    "    ('imp', SimpleImputer(strategy='constant', fill_value=-1))\n",
    "])\n",
    "\n",
    "# Select categorical columns\n",
    "cat_feat = ['mos_gender',\n",
    "            'complainant_gender', \n",
    "            'complainant_ethnicity',\n",
    "            'fado_type', \n",
    "            'allegation', \n",
    "            'rank_incident', \n",
    "            'contact_reason', \n",
    "            'outcome_description']\n",
    "\n",
    "cat_transformer = Pipeline(steps=[\n",
    "    # Impute NULL \n",
    "    ('imp', SimpleImputer(strategy='constant', fill_value='NULL')),\n",
    "    # One hot encode categorical columns. Ignore unknown values\n",
    "    ('onehot', OneHotEncoder(handle_unknown='ignore', sparse=False))\n",
    "])\n",
    "\n",
    "preproc = ColumnTransformer(transformers=[\n",
    "    ('num', num_transformer, num_feat), \n",
    "    ('cat', cat_transformer, cat_feat)\n",
    "])"
   ]
  },
  {
   "cell_type": "markdown",
   "metadata": {},
   "source": [
    "- We iteratively split data and train the model to to average out variation in metrics due to random splits in `train_test_split`\n",
    "- Calculate average of metrics from `mos_ethnicity` predictions of base model. "
   ]
  },
  {
   "cell_type": "code",
   "execution_count": 11,
   "metadata": {},
   "outputs": [],
   "source": [
    "scores = []\n",
    "precisions = []\n",
    "recalls = []\n",
    "f1_scores = []\n",
    "\n",
    "# To avoid random error in splitting data\n",
    "for i in range(10):\n",
    "    #Split data into training and testing sets using default sklearn split\n",
    "    X_train, X_test, y_train, y_test = train_test_split(\n",
    "        df.drop('mos_ethnicity', axis=1), \n",
    "        df['mos_ethnicity']\n",
    "    )\n",
    "    pl_base = Pipeline(steps=[\n",
    "        ('preprocessor', preproc), \n",
    "        ('classifier', DecisionTreeClassifier())\n",
    "    ])\n",
    "    pl_base.fit(X_train, y_train)\n",
    "    preds = pl_base.predict(X_test)\n",
    "    \n",
    "    #Extract positive and negative identifications and errors\n",
    "    tn, fp, fn, tp = metrics.confusion_matrix(y_test, preds).ravel()\n",
    "    #Accuracy score\n",
    "    scores.append(pl_base.score(X_test, y_test))\n",
    "    # Precision\n",
    "    precision = tp/(tp+fp)\n",
    "    precisions.append(precision)\n",
    "    # Recall\n",
    "    recall = tp/(tp+fn)\n",
    "    recalls.append(recall)\n",
    "    #F1 Score\n",
    "    f1_score = (2 * precision * recall)/(precision + recall)\n",
    "    f1_scores.append(f1_score)"
   ]
  },
  {
   "cell_type": "code",
   "execution_count": 12,
   "metadata": {},
   "outputs": [
    {
     "data": {
      "text/plain": [
       "{'Accuracy': 0.7864868105515587,\n",
       " 'Precision': 0.803803046663163,\n",
       " 'Recall': 0.8023055397540192,\n",
       " 'F1 Score': 0.8030234834920804}"
      ]
     },
     "execution_count": 12,
     "metadata": {},
     "output_type": "execute_result"
    }
   ],
   "source": [
    "base_accuracy = np.mean(scores)\n",
    "base_precision = np.mean(precisions)\n",
    "base_recall = np.mean(recalls)\n",
    "base_f1 = np.mean(f1_scores)\n",
    "\n",
    "base_metrics = {'Accuracy': base_accuracy, \n",
    "                'Precision': base_precision,\n",
    "                'Recall': base_recall, \n",
    "                'F1 Score': base_f1}\n",
    "base_metrics"
   ]
  },
  {
   "cell_type": "markdown",
   "metadata": {},
   "source": [
    "Find most important features from base model. They appear to be: \n",
    "- `complainant_ethnicity`\n",
    "- `mos_age_incident`\n",
    "- `mos_gender`\n",
    "\n",
    "Note that `precinct` is completely unimportant"
   ]
  },
  {
   "cell_type": "code",
   "execution_count": 13,
   "metadata": {
    "scrolled": true
   },
   "outputs": [
    {
     "data": {
      "text/plain": [
       "[('complainant_ethnicity', 0.18352557902959857),\n",
       " ('mos_gender', 0.14895016311520418),\n",
       " ('mos_age_incident', 0.14575137541253472),\n",
       " ('complainant_age_incident', 0.012998949164602243),\n",
       " ('rank_incident', 0.010369840490624407),\n",
       " ('fado_type', 0.009418709211204093),\n",
       " ('allegation', 0.006192837770173487),\n",
       " ('contact_reason', 0.00023418478478285163),\n",
       " ('complainant_gender', 0.0),\n",
       " ('precinct', 0.0),\n",
       " ('outcome_description', 0.0)]"
      ]
     },
     "execution_count": 13,
     "metadata": {},
     "output_type": "execute_result"
    }
   ],
   "source": [
    "d = dict(zip(X_train.columns, pl_base.steps[1][1].feature_importances_))\n",
    "sorted(d.items(), key=lambda item: item[1], reverse=True)"
   ]
  },
  {
   "cell_type": "markdown",
   "metadata": {},
   "source": [
    "### Final Model\n",
    "\n",
    "To improve upon the baseline model, I made the following changes to the feature set:\n",
    "1. I engineered a brand new feature called `time_elapsed` which calculates the amount of time in days that the allegation case was closed using the `month_received`, `year_received`, `month_closed`, and `year_closed` columns in the allegations table. This is a good feature as there may be a correlation between officer ethnicity and the amount of time taken to close allegation cases due to systemic biases in the NYPD. Since it is known that racial biases exist in police departments, this feature may help predict the ethnicity of the police officer.\n",
    "2. I changed `precinct` from a quantitative feature to a categorical feature by converting it to a string. This is because precincts are nominal zones that officers are allotted to. The precinct number does not carry weight or order. One-hot encoding this feature will provide more useful data for the model as precincts contain different proportions of ethnicities, with some precincts being predominantly white.\n",
    "3. I scaled the numerical columns using `RobustScaler` to reduce the impact of outliers and imputed data on the model predictions.\n",
    "\n",
    "I proceeded to use the `DecisionTreeClassifier` with the above 12 features because it is an appropriate classifier, has scope for finetuning parameters to improve generalization, and performed better than I anticipated in the base model. I selected the best parameters using `GridSearchCV` with `cv` set to 5. `GridSearchCV` checks all combinations of the given parameters and specifies the best ones for the final model. These were:\n",
    "- `max_depth`: None\n",
    "- `min_samples_split`: 1\n",
    "- `min_samples_leaf`: 3\n",
    "\n",
    "These parameters are very close to the default parameters. Average final model performance using the above parameters on unseen data is as follows:\n",
    "- `Accuracy`: 0.8116546762589929\n",
    "- `Precision`: 0.8289738837350773\n",
    "- `Recall`: 0.8210347338388646\n",
    "- `F1 score`: 0.8249712669992325\n",
    "\n",
    "There appears to be modest improvement across all metrics. Most importantly, the `F1 score` improved, which indicates that the model performed better in correctly identifying both White and Not White police officers. Examining the important features from the `DecisionTreeClassifier`, we see that `time_elapsed` plays a role in the classification and `precinct` is no longer completely unimportant. However, this model still does not appear to be completely reliable."
   ]
  },
  {
   "cell_type": "markdown",
   "metadata": {},
   "source": [
    "Create new feature titled `time_elapsed` which determines the number of days that the allegation file remained open"
   ]
  },
  {
   "cell_type": "code",
   "execution_count": 14,
   "metadata": {},
   "outputs": [],
   "source": [
    "def time_elapsed(year1, year2, month1, month2):\n",
    "    #Convert year and month to datetime objects\n",
    "    start = pd.to_datetime('{}-{}'.format(year1, month1))\n",
    "    end = pd.to_datetime('{}-{}'.format(year2, month2))\n",
    "    \n",
    "    #Extract days from relativedelta object\n",
    "    return (end - start).days"
   ]
  },
  {
   "cell_type": "code",
   "execution_count": 15,
   "metadata": {},
   "outputs": [],
   "source": [
    "df['time_elapsed'] = allegations.apply(lambda x: time_elapsed(\n",
    "    x['year_received'], x['year_closed'], x['month_received'], x['month_closed']\n",
    "), axis=1)"
   ]
  },
  {
   "cell_type": "markdown",
   "metadata": {},
   "source": [
    "Convert `precinct` into a categorical feature"
   ]
  },
  {
   "cell_type": "code",
   "execution_count": 16,
   "metadata": {},
   "outputs": [],
   "source": [
    "df['precinct'] = df['precinct'].astype(str)"
   ]
  },
  {
   "cell_type": "markdown",
   "metadata": {},
   "source": [
    "Create feature engineered DecisionTreeClassifier model:\n",
    "- Impute -1 into quantitative columns\n",
    "- Standardize quantitative columns, including new `time_elapsed` feature\n",
    "- Impute 'NULL' for categorical columns\n",
    "- One hot encode categorical columns"
   ]
  },
  {
   "cell_type": "code",
   "execution_count": 17,
   "metadata": {},
   "outputs": [],
   "source": [
    "# Select quantitative columns\n",
    "num_feat = ['complainant_age_incident', \n",
    "            'mos_age_incident',\n",
    "            'time_elapsed']\n",
    "num_transformer = Pipeline(steps=[\n",
    "    # Impute -1\n",
    "    ('imp', SimpleImputer(strategy='constant', fill_value=-1)),\n",
    "    # Robust scale numerical columns to reduce impact of outliers\n",
    "    \n",
    "    ('scale', RobustScaler())\n",
    "])\n",
    "\n",
    "# Select categorical columns\n",
    "cat_feat = ['precinct',\n",
    "            'mos_gender',\n",
    "            'complainant_gender', \n",
    "            'complainant_ethnicity',\n",
    "            'fado_type', \n",
    "            'allegation', \n",
    "            'rank_incident', \n",
    "            'contact_reason', \n",
    "            'outcome_description']\n",
    "\n",
    "cat_transformer = Pipeline(steps=[\n",
    "    # Impute NULL \n",
    "    ('imp', SimpleImputer(strategy='constant', fill_value='NULL')),\n",
    "    # One hot encode categorical columns. Ignore unknown values\n",
    "    ('onehot', OneHotEncoder(handle_unknown='ignore', sparse=False))\n",
    "])\n",
    "\n",
    "preproc = ColumnTransformer(transformers=[\n",
    "    ('num', num_transformer, num_feat), \n",
    "    ('cat', cat_transformer, cat_feat)\n",
    "])"
   ]
  },
  {
   "cell_type": "markdown",
   "metadata": {},
   "source": [
    "Perform a grid search with 5 `cross_validation` folds to find the best `DecssionTreeClassifier` parameters"
   ]
  },
  {
   "cell_type": "code",
   "execution_count": 18,
   "metadata": {},
   "outputs": [
    {
     "data": {
      "text/plain": [
       "{'classifier__max_depth': None,\n",
       " 'classifier__min_samples_leaf': 1,\n",
       " 'classifier__min_samples_split': 3}"
      ]
     },
     "execution_count": 18,
     "metadata": {},
     "output_type": "execute_result"
    }
   ],
   "source": [
    "params = {\n",
    "    'classifier__max_depth': [5,10,15,20,None],\n",
    "    'classifier__min_samples_split': [1,3,5,7,10,None],\n",
    "    'classifier__min_samples_leaf': [1,3,5,7,10,None]\n",
    "}\n",
    "\n",
    "X_train, X_test, y_train, y_test = train_test_split(\n",
    "    df.drop('mos_ethnicity', axis=1), \n",
    "    df['mos_ethnicity']\n",
    ")\n",
    "\n",
    "pl_final = Pipeline(steps=[\n",
    "    ('preprocessor', preproc), \n",
    "    ('classifier', DecisionTreeClassifier())\n",
    "])\n",
    "\n",
    "grid = GridSearchCV(pl_final, cv=5, param_grid=params, n_jobs=-1)\n",
    "grid.fit(X_train, y_train)\n",
    "grid.best_params_"
   ]
  },
  {
   "cell_type": "markdown",
   "metadata": {},
   "source": [
    "- We iteratively split data and train the final model to to average out variation in metrics due to random splits in `train_test_split`\n",
    "- Calculate average of metrics from `mos_ethnicity` predictions of final model using above parameters. "
   ]
  },
  {
   "cell_type": "code",
   "execution_count": 19,
   "metadata": {
    "scrolled": false
   },
   "outputs": [],
   "source": [
    "scores = []\n",
    "precisions = []\n",
    "recalls = []\n",
    "f1_scores = []\n",
    "\n",
    "for i in range(10):\n",
    "    #Split data into training and testing sets using default sklearn split\n",
    "    X_train, X_test, y_train, y_test = train_test_split(\n",
    "        df.drop('mos_ethnicity', axis=1), \n",
    "        df['mos_ethnicity']\n",
    "    )\n",
    "    pl_final = Pipeline(steps=[\n",
    "        ('preprocessor', preproc), \n",
    "        ('classifier', DecisionTreeClassifier(max_depth=None, min_samples_split=3, min_samples_leaf=1))\n",
    "    ])\n",
    "    pl_final.fit(X_train, y_train)\n",
    "    #Accuracy score\n",
    "    scores.append(pl_final.score(X_test, y_test))\n",
    "    preds = pl_final.predict(X_test)\n",
    "    \n",
    "    #Extract positive and negative identifications and errors\n",
    "    tn, fp, fn, tp = metrics.confusion_matrix(y_test, preds).ravel()\n",
    "    # Precision\n",
    "    precision = tp/(tp+fp)\n",
    "    precisions.append(precision)\n",
    "    # Recall\n",
    "    recall = tp/(tp+fn)\n",
    "    recalls.append(recall)\n",
    "    #F1 Score\n",
    "    f1_score = (2 * precision * recall)/(precision + recall)\n",
    "    f1_scores.append(f1_score)"
   ]
  },
  {
   "cell_type": "code",
   "execution_count": 20,
   "metadata": {},
   "outputs": [
    {
     "data": {
      "text/plain": [
       "{'Accuracy': 0.812410071942446,\n",
       " 'Precision': 0.8324519943941395,\n",
       " 'Recall': 0.8191545514554509,\n",
       " 'F1 Score': 0.8257261121317276}"
      ]
     },
     "execution_count": 20,
     "metadata": {},
     "output_type": "execute_result"
    }
   ],
   "source": [
    "final_accuracy = np.mean(scores)\n",
    "final_precision = np.mean(precisions)\n",
    "final_recall = np.mean(recalls)\n",
    "final_f1 = np.mean(f1_scores)\n",
    "\n",
    "final_metrics = {'Accuracy': final_accuracy, \n",
    "                'Precision': final_precision,\n",
    "                'Recall': final_recall, \n",
    "                'F1 Score': final_f1}\n",
    "final_metrics"
   ]
  },
  {
   "cell_type": "markdown",
   "metadata": {},
   "source": [
    "There appears to be a modest improvement across all metrics"
   ]
  },
  {
   "cell_type": "markdown",
   "metadata": {},
   "source": [
    "Find most important features from base model. They are still: \n",
    "- `complainant_ethnicity`\n",
    "- `mos_age_incident`\n",
    "- `mos_gender`\n",
    "\n",
    "However, we note that `time_elapsed` plays a role in the classification and `precinct` is no longer completely unimportant"
   ]
  },
  {
   "cell_type": "code",
   "execution_count": 21,
   "metadata": {
    "scrolled": true
   },
   "outputs": [
    {
     "data": {
      "text/plain": [
       "{'complainant_ethnicity': 0.12188387831543862,\n",
       " 'mos_age_incident': 0.10629643780765105,\n",
       " 'mos_gender': 0.10081014010004301,\n",
       " 'allegation': 0.006469419960400583,\n",
       " 'outcome_description': 0.005514013926467992,\n",
       " 'complainant_age_incident': 0.0029765580936638256,\n",
       " 'time_elapsed': 0.0027411407901999398,\n",
       " 'rank_incident': 0.002684489399723798,\n",
       " 'contact_reason': 0.0022053716668646904,\n",
       " 'precinct': 0.0015129430326987613,\n",
       " 'complainant_gender': 0.0002973099975640261,\n",
       " 'fado_type': 0.0}"
      ]
     },
     "execution_count": 21,
     "metadata": {},
     "output_type": "execute_result"
    }
   ],
   "source": [
    "d = dict(zip(X_train.columns, pl_final.steps[1][1].feature_importances_))\n",
    "dict(sorted(d.items(), key=lambda item: item[1], reverse=True))"
   ]
  },
  {
   "cell_type": "markdown",
   "metadata": {},
   "source": [
    "### Fairness Evaluation\n",
    "    \n",
    "We know that males are overrepresented in the population of NYPD police officers. To understand whether the final model predicts ethnicities fairly for both genders, we must perform an inference analysis on the prediction results for the entire dataset.\n",
    "\n",
    "We run a permutation test to evaluate final model for fairness by gender using `F1 score`. We use this as our parity measure as it is the harmonic mean of `Precision` and `Recall`, both of which are important to determine if White and Not White ethnicities were correctly identified. This has been explained above.\n",
    "\n",
    "We run our permutation test with the following hypotheses and set significance level:\n",
    "- `Null Hypothesis`: my model is fair; the `F1 score` for the two subsets are roughly the same\n",
    "- `Alternative Hypothesis`: my model is unfair; the `F1 score` for the male subset is higher than the female subset\n",
    "- `Significance Level`: 0.05, default value\n",
    "\n",
    "**Result**: With a p-value of 0, we reject the `Null Hypothesis` in favour of the `Alternative Hypothesis`. That is, the final model is unfair and is biased towards males."
   ]
  },
  {
   "cell_type": "markdown",
   "metadata": {},
   "source": [
    "We know that males are overrepresented in the population of NYPD police officers."
   ]
  },
  {
   "cell_type": "code",
   "execution_count": 22,
   "metadata": {
    "scrolled": true
   },
   "outputs": [
    {
     "data": {
      "text/plain": [
       "Text(0.5, 1.0, 'Counts of M vs. F in NYPD')"
      ]
     },
     "execution_count": 22,
     "metadata": {},
     "output_type": "execute_result"
    },
    {
     "data": {
      "image/png": "[encoded data removed]",
      "text/plain": [
       "<Figure size 432x288 with 1 Axes>"
      ]
     },
     "metadata": {
      "image/png": {
       "height": 277,
       "width": 378
      },
      "needs_background": "light"
     },
     "output_type": "display_data"
    }
   ],
   "source": [
    "sns.countplot(y='mos_gender', data=df).set_title('Counts of M vs. F in NYPD')"
   ]
  },
  {
   "cell_type": "markdown",
   "metadata": {},
   "source": [
    "To understand whether the final model predicts ethnicities fairly for both genders, we must perform an inference analysis on the prediction results for the entire dataset."
   ]
  },
  {
   "cell_type": "code",
   "execution_count": 23,
   "metadata": {},
   "outputs": [],
   "source": [
    "preds = pl_final.predict(df.drop('mos_ethnicity', axis=1))\n",
    "df['prediction'] = preds\n",
    "subset = df[['mos_gender', 'mos_ethnicity', 'prediction']]"
   ]
  },
  {
   "cell_type": "markdown",
   "metadata": {},
   "source": [
    "We will run a permutation test to evaluate final model for fairness by gender using `F1 score`. We use this as our parity measure across gender as it is the harmonic mean of `Precision` and `Recall`, both of which are important metrics determining if White and Not White ethnicities were correctly identified."
   ]
  },
  {
   "cell_type": "markdown",
   "metadata": {},
   "source": [
    "- `Null Hypothesis`: my model is fair; the `F1 score` for the two subsets are roughly the same\n",
    "- `Alternative Hypothesis`: my model is unfair; the `F1 score` for the male subset is higher than the female subset\n",
    "- `Significance Level`: 0.05, default value"
   ]
  },
  {
   "cell_type": "code",
   "execution_count": 24,
   "metadata": {},
   "outputs": [
    {
     "data": {
      "text/plain": [
       "0.04158790981429872"
      ]
     },
     "execution_count": 24,
     "metadata": {},
     "output_type": "execute_result"
    }
   ],
   "source": [
    "obs = (\n",
    "    subset\n",
    "    .groupby('mos_gender')\n",
    "    .apply(lambda x: metrics.f1_score(x.mos_ethnicity, x.prediction))\n",
    "    .diff()\n",
    "    .iloc[-1]\n",
    ")\n",
    "# Observed difference in F1 Score\n",
    "obs"
   ]
  },
  {
   "cell_type": "code",
   "execution_count": 25,
   "metadata": {},
   "outputs": [],
   "source": [
    "diffs = []\n",
    "for _ in range(100):\n",
    "    diff = (\n",
    "        #randomly shuffle gender labels and calculate F1 scores for new groups\n",
    "        subset\n",
    "        .assign(mos_gender=subset.mos_gender.sample(frac=1.0, replace=False).reset_index(drop=True))\n",
    "        .groupby('mos_gender')\n",
    "        .apply(lambda x: metrics.f1_score(x.mos_ethnicity, x.prediction))\n",
    "        .diff()\n",
    "        .iloc[-1]\n",
    "    )\n",
    "    \n",
    "    diffs.append(diff)"
   ]
  },
  {
   "cell_type": "code",
   "execution_count": 26,
   "metadata": {},
   "outputs": [
    {
     "name": "stdout",
     "output_type": "stream",
     "text": [
      "p-value: 0.0\n"
     ]
    },
    {
     "data": {
      "image/png": "[encoded data removed]",
      "text/plain": [
       "<Figure size 432x288 with 1 Axes>"
      ]
     },
     "metadata": {
      "image/png": {
       "height": 263,
       "width": 382
      },
      "needs_background": "light"
     },
     "output_type": "display_data"
    }
   ],
   "source": [
    "print('p-value:', pd.Series(diffs >= obs).mean())\n",
    "pd.Series(diffs).plot(kind='hist', title='Permutation Test for F1 scores across M/F groups')\n",
    "plt.scatter(obs, 0, c='r');"
   ]
  },
  {
   "cell_type": "markdown",
   "metadata": {},
   "source": [
    "**Result**: With a p-value of 0, we reject the `Null Hypothesis` in favour of the `Alternative Hypothesis`. That is, the final model is unfair and is biased towards males.\n",
    "\n",
    "This is to be expected given the bias towards males in the training data"
   ]
  }
 ],
 "metadata": {
  "kernelspec": {
   "display_name": "Python 3",
   "language": "python",
   "name": "python3"
  },
  "language_info": {
   "codemirror_mode": {
    "name": "ipython",
    "version": 3
   },
   "file_extension": ".py",
   "mimetype": "text/x-python",
   "name": "python",
   "nbconvert_exporter": "python",
   "pygments_lexer": "ipython3",
   "version": "3.7.9"
  }
 },
 "nbformat": 4,
 "nbformat_minor": 2
}
